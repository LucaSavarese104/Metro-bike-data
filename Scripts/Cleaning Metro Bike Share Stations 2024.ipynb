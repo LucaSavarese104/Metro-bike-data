{
  "nbformat": 4,
  "nbformat_minor": 0,
  "metadata": {
    "colab": {
      "provenance": []
    },
    "kernelspec": {
      "name": "python3",
      "display_name": "Python 3"
    },
    "language_info": {
      "name": "python"
    }
  },
  "cells": [
    {
      "cell_type": "code",
      "execution_count": 2,
      "metadata": {
        "id": "_xO1BZ5jcIWY"
      },
      "outputs": [],
      "source": [
        "import pandas as pd\n",
        "\n",
        "\n",
        "station_data_path = '/content/metro-bike-share-stations-2024-10-01.csv'\n",
        "stations_data = pd.read_csv(station_data_path, encoding='ISO-8859-1')\n",
        "\n",
        "# Dropping missing values Kiosk ID\n",
        "stations_data = stations_data.dropna(subset=['Kiosk ID'])\n",
        "\n",
        "# Correcting data types to integers\n",
        "stations_data['Kiosk ID'] = stations_data['Kiosk ID'].astype(int)\n",
        "\n",
        "# Standardize text columns\n",
        "stations_data['Kiosk Name'] = stations_data['Kiosk Name'].str.strip().str.lower()\n",
        "stations_data['Region '] = stations_data['Region '].str.strip().str.lower()\n",
        "stations_data['Status'] = stations_data['Status'].str.strip().str.lower()\n",
        "\n",
        "# Remove duplicates\n",
        "stations_data = stations_data.drop_duplicates()\n",
        "\n",
        "# Checking latitude and longitude\n",
        "stations_data = stations_data[\n",
        "    (stations_data['Latitude'].between(-90, 90)) &\n",
        "    (stations_data['Longitude'].between(-180, 180))\n",
        "]\n",
        "\n",
        "\n",
        "cleaned_station_data_path = '/content/metro-bike-share-stations-2024.csv'\n",
        "stations_data.to_csv(cleaned_station_data_path, index=False)\n",
        "\n"
      ]
    }
  ]
}